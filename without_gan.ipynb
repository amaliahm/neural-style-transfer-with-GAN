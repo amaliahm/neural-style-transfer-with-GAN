{
 "cells": [
  {
   "cell_type": "code",
   "execution_count": 2,
   "metadata": {
    "_cell_guid": "b1076dfc-b9ad-4769-8c92-a6c4dae69d19",
    "_uuid": "8f2839f25d086af736a60e9eeb907d3b93b6e0e5",
    "execution": {
     "iopub.execute_input": "2025-04-28T15:36:17.608624Z",
     "iopub.status.busy": "2025-04-28T15:36:17.607934Z",
     "iopub.status.idle": "2025-04-28T15:36:31.696211Z",
     "shell.execute_reply": "2025-04-28T15:36:31.695637Z",
     "shell.execute_reply.started": "2025-04-28T15:36:17.608599Z"
    },
    "trusted": true
   },
   "outputs": [],
   "source": [
    "import tensorflow as tf\n",
    "import numpy as np\n",
    "import PIL.Image"
   ]
  },
  {
   "cell_type": "code",
   "execution_count": 3,
   "metadata": {
    "execution": {
     "iopub.execute_input": "2025-04-28T15:36:31.697627Z",
     "iopub.status.busy": "2025-04-28T15:36:31.697163Z",
     "iopub.status.idle": "2025-04-28T15:36:31.701788Z",
     "shell.execute_reply": "2025-04-28T15:36:31.701085Z",
     "shell.execute_reply.started": "2025-04-28T15:36:31.697606Z"
    },
    "trusted": true
   },
   "outputs": [],
   "source": [
    "def tensor_to_image(tensor):\n",
    "    tensor = tensor * 255\n",
    "    tensor = np.array(tensor, dtype=np.uint8)\n",
    "    if np.ndim(tensor) > 3:\n",
    "        assert tensor.shape[0] == 1\n",
    "        tensor = tensor[0]\n",
    "    return PIL.Image.fromarray(tensor)"
   ]
  },
  {
   "cell_type": "code",
   "execution_count": 4,
   "metadata": {
    "execution": {
     "iopub.execute_input": "2025-04-28T15:36:31.702603Z",
     "iopub.status.busy": "2025-04-28T15:36:31.702427Z",
     "iopub.status.idle": "2025-04-28T15:36:31.738305Z",
     "shell.execute_reply": "2025-04-28T15:36:31.737807Z",
     "shell.execute_reply.started": "2025-04-28T15:36:31.702589Z"
    },
    "trusted": true
   },
   "outputs": [],
   "source": [
    "def load_img(path_to_img, max_dim):\n",
    "    img = tf.io.read_file(path_to_img)\n",
    "    img = tf.image.decode_image(img, channels=3)\n",
    "    img = tf.image.convert_image_dtype(img, tf.float32)\n",
    "\n",
    "    shape = tf.cast(tf.shape(img)[:-1], tf.float32)\n",
    "    long_dim = max(shape)\n",
    "    scale = max_dim / long_dim\n",
    "\n",
    "    new_shape = tf.cast(shape * scale, tf.int32)\n",
    "\n",
    "    img = tf.image.resize(img, new_shape)\n",
    "    img = img[tf.newaxis, :]\n",
    "    return img"
   ]
  },
  {
   "cell_type": "code",
   "execution_count": 5,
   "metadata": {
    "execution": {
     "iopub.execute_input": "2025-04-28T15:36:31.739675Z",
     "iopub.status.busy": "2025-04-28T15:36:31.739512Z",
     "iopub.status.idle": "2025-04-28T15:36:31.756981Z",
     "shell.execute_reply": "2025-04-28T15:36:31.756472Z",
     "shell.execute_reply.started": "2025-04-28T15:36:31.739662Z"
    },
    "trusted": true
   },
   "outputs": [],
   "source": [
    "def vgg_layers(layer_names):\n",
    "    \"\"\"Creates a vgg model that returns a list of intermediate output values.\"\"\"\n",
    "    # Load our model. Load pretrained VGG, trained on imagenet data\n",
    "    vgg = tf.keras.applications.VGG19(include_top=False, weights=\"imagenet\")\n",
    "    vgg.trainable = False\n",
    "\n",
    "    outputs = [vgg.get_layer(name).output for name in layer_names]\n",
    "\n",
    "    model = tf.keras.Model([vgg.input], outputs)\n",
    "    return model"
   ]
  },
  {
   "cell_type": "code",
   "execution_count": 6,
   "metadata": {
    "execution": {
     "iopub.execute_input": "2025-04-28T15:36:31.757788Z",
     "iopub.status.busy": "2025-04-28T15:36:31.757556Z",
     "iopub.status.idle": "2025-04-28T15:36:31.775983Z",
     "shell.execute_reply": "2025-04-28T15:36:31.775491Z",
     "shell.execute_reply.started": "2025-04-28T15:36:31.757766Z"
    },
    "trusted": true
   },
   "outputs": [],
   "source": [
    "def gram_matrix(input_tensor):\n",
    "    result = tf.linalg.einsum(\"bijc,bijd->bcd\", input_tensor, input_tensor)\n",
    "    input_shape = tf.shape(input_tensor)\n",
    "    num_locations = tf.cast(input_shape[1] * input_shape[2], tf.float32)\n",
    "    return result / (num_locations)"
   ]
  },
  {
   "cell_type": "code",
   "execution_count": 7,
   "metadata": {
    "execution": {
     "iopub.execute_input": "2025-04-28T15:36:31.776889Z",
     "iopub.status.busy": "2025-04-28T15:36:31.776647Z",
     "iopub.status.idle": "2025-04-28T15:36:31.871354Z",
     "shell.execute_reply": "2025-04-28T15:36:31.870897Z",
     "shell.execute_reply.started": "2025-04-28T15:36:31.776867Z"
    },
    "trusted": true
   },
   "outputs": [],
   "source": [
    "class StyleContentModel(tf.keras.models.Model):\n",
    "    def __init__(self, style_layers, content_layers):\n",
    "        super(StyleContentModel, self).__init__()\n",
    "        self.vgg = vgg_layers(style_layers + content_layers)\n",
    "        self.style_layers = style_layers\n",
    "        self.content_layers = content_layers\n",
    "        self.num_style_layers = len(style_layers)\n",
    "        self.vgg.trainable = False\n",
    "\n",
    "    def call(self, inputs):\n",
    "        \"Expects float input in [0,1]\"\n",
    "        inputs = inputs * 255.0\n",
    "        preprocessed_input = tf.keras.applications.vgg19.preprocess_input(inputs)\n",
    "        outputs = self.vgg(preprocessed_input)\n",
    "        style_outputs, content_outputs = (\n",
    "            outputs[: self.num_style_layers],\n",
    "            outputs[self.num_style_layers :],\n",
    "        )\n",
    "\n",
    "        style_outputs = [gram_matrix(style_output) for style_output in style_outputs]\n",
    "\n",
    "        content_dict = {\n",
    "            content_name: value\n",
    "            for content_name, value in zip(self.content_layers, content_outputs)\n",
    "        }\n",
    "\n",
    "        style_dict = {\n",
    "            style_name: value\n",
    "            for style_name, value in zip(self.style_layers, style_outputs)\n",
    "        }\n",
    "\n",
    "        return {\"content\": content_dict, \"style\": style_dict}"
   ]
  },
  {
   "cell_type": "code",
   "execution_count": 8,
   "metadata": {
    "execution": {
     "iopub.execute_input": "2025-04-28T15:36:31.872391Z",
     "iopub.status.busy": "2025-04-28T15:36:31.872158Z",
     "iopub.status.idle": "2025-04-28T15:36:31.880794Z",
     "shell.execute_reply": "2025-04-28T15:36:31.880069Z",
     "shell.execute_reply.started": "2025-04-28T15:36:31.872370Z"
    },
    "trusted": true
   },
   "outputs": [],
   "source": [
    "def style_transfer_image(\n",
    "    content,\n",
    "    style,\n",
    "    epochs=10,\n",
    "    steps_per_epoch=100,\n",
    "    style_weight=1e-2,\n",
    "    content_weight=1e4,\n",
    "    total_variation_weight=30,\n",
    "    max_dim=1000,\n",
    "    save_name=\"/kaggle/working/output.png\",\n",
    "):\n",
    "    if content is None:\n",
    "        content = '/kaggle/input/styled-dataset-images/city.jpg'\n",
    "    content_img = load_img(content, max_dim=max_dim)\n",
    "    style_img = load_img(style, max_dim=max_dim)\n",
    "\n",
    "    content_layers = [\"block5_conv2\"]\n",
    "\n",
    "    style_layers = [\n",
    "        \"block1_conv1\",\n",
    "        \"block2_conv1\",\n",
    "        \"block3_conv1\",\n",
    "        \"block4_conv1\",\n",
    "        \"block5_conv1\",\n",
    "    ]\n",
    "\n",
    "    num_content_layers = len(content_layers)\n",
    "    num_style_layers = len(style_layers)\n",
    "\n",
    "    extractor = StyleContentModel(style_layers, content_layers)\n",
    "\n",
    "    # Gradient Descent\n",
    "    style_targets = extractor(style_img)[\"style\"]\n",
    "    content_targets = extractor(content_img)[\"content\"]\n",
    "\n",
    "    image = tf.Variable(content_img)\n",
    "\n",
    "    def clip_0_1(image):\n",
    "        return tf.clip_by_value(image, clip_value_min=0.0, clip_value_max=1.0)\n",
    "\n",
    "    opt = tf.optimizers.Adam(learning_rate=0.02, beta_1=0.99, epsilon=1e-1)\n",
    "\n",
    "    def style_content_loss(outputs):\n",
    "        style_outputs = outputs[\"style\"]\n",
    "        content_outputs = outputs[\"content\"]\n",
    "        style_loss = tf.add_n(\n",
    "            [\n",
    "                tf.reduce_mean((style_outputs[name] - style_targets[name]) ** 2)\n",
    "                for name in style_outputs.keys()\n",
    "            ]\n",
    "        )\n",
    "        style_loss *= style_weight / num_style_layers\n",
    "\n",
    "        content_loss = tf.add_n(\n",
    "            [\n",
    "                tf.reduce_mean((content_outputs[name] - content_targets[name]) ** 2)\n",
    "                for name in content_outputs.keys()\n",
    "            ]\n",
    "        )\n",
    "        content_loss *= content_weight / num_content_layers\n",
    "        loss = style_loss + content_loss\n",
    "        return loss\n",
    "\n",
    "    @tf.function()\n",
    "    def train_step(image):\n",
    "        with tf.GradientTape() as tape:\n",
    "            outputs = extractor(image)\n",
    "            loss = style_content_loss(outputs)\n",
    "            loss += total_variation_weight * tf.image.total_variation(image)\n",
    "\n",
    "        grad = tape.gradient(loss, image)\n",
    "        opt.apply_gradients([(grad, image)])\n",
    "        image.assign(clip_0_1(image))\n",
    "\n",
    "    for n in range(epochs):\n",
    "        print(f\"\\nEpoch: {n+1}/{epochs}\")\n",
    "        for m in range(steps_per_epoch):\n",
    "            print(m, \" of \", steps_per_epoch, end=\"\\r\")\n",
    "            train_step(image)\n",
    "        img = tensor_to_image(image)\n",
    "        img.save(f\"{save_name}-{n}.png\")"
   ]
  },
  {
   "cell_type": "code",
   "execution_count": 9,
   "metadata": {
    "execution": {
     "iopub.execute_input": "2025-04-28T15:36:31.881734Z",
     "iopub.status.busy": "2025-04-28T15:36:31.881536Z",
     "iopub.status.idle": "2025-04-28T15:40:58.155369Z",
     "shell.execute_reply": "2025-04-28T15:40:58.154799Z",
     "shell.execute_reply.started": "2025-04-28T15:36:31.881711Z"
    },
    "trusted": true
   },
   "outputs": [
    {
     "name": "stderr",
     "output_type": "stream",
     "text": [
      "I0000 00:00:1745854594.562768      31 gpu_device.cc:2022] Created device /job:localhost/replica:0/task:0/device:GPU:0 with 13942 MB memory:  -> device: 0, name: Tesla T4, pci bus id: 0000:00:04.0, compute capability: 7.5\n",
      "I0000 00:00:1745854594.563430      31 gpu_device.cc:2022] Created device /job:localhost/replica:0/task:0/device:GPU:1 with 13942 MB memory:  -> device: 1, name: Tesla T4, pci bus id: 0000:00:05.0, compute capability: 7.5\n"
     ]
    },
    {
     "name": "stdout",
     "output_type": "stream",
     "text": [
      "Downloading data from https://storage.googleapis.com/tensorflow/keras-applications/vgg19/vgg19_weights_tf_dim_ordering_tf_kernels_notop.h5\n",
      "\u001b[1m80134624/80134624\u001b[0m \u001b[32m━━━━━━━━━━━━━━━━━━━━\u001b[0m\u001b[37m\u001b[0m \u001b[1m0s\u001b[0m 0us/step\n"
     ]
    },
    {
     "name": "stderr",
     "output_type": "stream",
     "text": [
      "I0000 00:00:1745854597.664297      31 cuda_dnn.cc:529] Loaded cuDNN version 90300\n"
     ]
    },
    {
     "name": "stdout",
     "output_type": "stream",
     "text": [
      "\n",
      "Epoch: 1/10\n",
      "99  of  100\n",
      "Epoch: 2/10\n",
      "99  of  100\n",
      "Epoch: 3/10\n",
      "99  of  100\n",
      "Epoch: 4/10\n",
      "99  of  100\n",
      "Epoch: 5/10\n",
      "99  of  100\n",
      "Epoch: 6/10\n",
      "99  of  100\n",
      "Epoch: 7/10\n",
      "99  of  100\n",
      "Epoch: 8/10\n",
      "99  of  100\n",
      "Epoch: 9/10\n",
      "99  of  100\n",
      "Epoch: 10/10\n",
      "99  of  100\r"
     ]
    }
   ],
   "source": [
    "style_transfer_image(\n",
    "    \"/kaggle/input/styled-dataset-images/city.jpg\", \"/kaggle/input/styled-dataset/van.jpeg\", save_name=\"/kaggle/working/van-styled\",\n",
    "    style_weight=3e-2, content_weight=1e4, total_variation_weight=30,\n",
    ")"
   ]
  }
 ],
 "metadata": {
  "kaggle": {
   "accelerator": "nvidiaTeslaT4",
   "dataSources": [
    {
     "datasetId": 7276667,
     "sourceId": 11602240,
     "sourceType": "datasetVersion"
    },
    {
     "datasetId": 7276674,
     "sourceId": 11602249,
     "sourceType": "datasetVersion"
    }
   ],
   "dockerImageVersionId": 31011,
   "isGpuEnabled": true,
   "isInternetEnabled": true,
   "language": "python",
   "sourceType": "notebook"
  },
  "kernelspec": {
   "display_name": "Python 3",
   "language": "python",
   "name": "python3"
  },
  "language_info": {
   "codemirror_mode": {
    "name": "ipython",
    "version": 3
   },
   "file_extension": ".py",
   "mimetype": "text/x-python",
   "name": "python",
   "nbconvert_exporter": "python",
   "pygments_lexer": "ipython3",
   "version": "3.11.11"
  }
 },
 "nbformat": 4,
 "nbformat_minor": 4
}
